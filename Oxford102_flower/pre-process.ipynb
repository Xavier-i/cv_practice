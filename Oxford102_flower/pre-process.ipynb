{
 "cells": [
  {
   "cell_type": "code",
   "execution_count": 1,
   "metadata": {},
   "outputs": [],
   "source": [
    "#!/usr/bin/env python\n",
    "import os\n",
    "import sys\n",
    "import glob\n",
    "import urllib.request\n",
    "import tarfile\n",
    "import numpy as np\n",
    "from scipy.io import loadmat\n",
    "import tensorflow as tf"
   ]
  },
  {
   "cell_type": "code",
   "execution_count": 6,
   "metadata": {},
   "outputs": [
    {
     "name": "stdout",
     "output_type": "stream",
     "text": [
      "Downloading images...\n",
      "Downloading image labels...\n",
      "Downloading train/test/valid splits...\n"
     ]
    }
   ],
   "source": [
    "def download_file(url, dest=None):\n",
    "    if not dest:\n",
    "        dest = 'data/' + url.split('/')[-1]\n",
    "    urllib.request.urlretrieve(url, dest)\n",
    "    \n",
    "# Download the Oxford102 dataset into the current directory\n",
    "if not os.path.exists('data'):\n",
    "    os.mkdir('data')\n",
    "    \n",
    "    print(\"Downloading images...\")\n",
    "    download_file('http://www.robots.ox.ac.uk/~vgg/data/flowers/102/102flowers.tgz')\n",
    "    tarfile.open(\"data/102flowers.tgz\").extractall(path='data/')\n",
    "    \n",
    "    print(\"Downloading image labels...\")\n",
    "    download_file('http://www.robots.ox.ac.uk/~vgg/data/flowers/102/imagelabels.mat')\n",
    "    \n",
    "    print(\"Downloading train/test/valid splits...\")\n",
    "    download_file('http://www.robots.ox.ac.uk/~vgg/data/flowers/102/setid.mat')"
   ]
  },
  {
   "cell_type": "code",
   "execution_count": 7,
   "metadata": {},
   "outputs": [],
   "source": [
    "# Read .mat file containing training, testing, and validation sets.\n",
    "set_id = loadmat('data/setid.mat')\n",
    "image_labels = loadmat('data/imagelabels.mat')"
   ]
  },
  {
   "cell_type": "code",
   "execution_count": 20,
   "metadata": {},
   "outputs": [
    {
     "data": {
      "text/plain": [
       "1020"
      ]
     },
     "execution_count": 20,
     "metadata": {},
     "output_type": "execute_result"
    }
   ],
   "source": [
    "image_labels['labels']\n",
    "set_id['trnid'].size"
   ]
  },
  {
   "cell_type": "code",
   "execution_count": null,
   "metadata": {},
   "outputs": [],
   "source": []
  }
 ],
 "metadata": {
  "kernelspec": {
   "display_name": "Python 3",
   "language": "python",
   "name": "python3"
  },
  "language_info": {
   "codemirror_mode": {
    "name": "ipython",
    "version": 3
   },
   "file_extension": ".py",
   "mimetype": "text/x-python",
   "name": "python",
   "nbconvert_exporter": "python",
   "pygments_lexer": "ipython3",
   "version": "3.6.4"
  }
 },
 "nbformat": 4,
 "nbformat_minor": 2
}
